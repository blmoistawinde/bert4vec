{
 "cells": [
  {
   "cell_type": "code",
   "execution_count": 1,
   "metadata": {},
   "outputs": [],
   "source": [
    "from bert4vec import Bert4Vec"
   ]
  },
  {
   "cell_type": "code",
   "execution_count": 2,
   "metadata": {},
   "outputs": [],
   "source": [
    "sent1 = ['今天天气不错', '今天天气不错', '我喜欢北京', '我喜欢北京', \n",
    "         '电影不错', '电影不错', '红色的苹果', '给我推荐一款红色的车', '给我推荐一款红色的车', '给我推荐一款红色的车']\n",
    "sent2 = ['今天天气很好', '今天天气不好', '我很喜欢北京', '我不喜欢北京', \n",
    "         '电影很好', '电影不好', '绿色的苹果', '给我推荐一款黑色的车', '推荐一辆红车', '麻烦来一辆红车']"
   ]
  },
  {
   "cell_type": "markdown",
   "metadata": {},
   "source": [
    "使用标准的roformer-sim"
   ]
  },
  {
   "cell_type": "code",
   "execution_count": 4,
   "metadata": {},
   "outputs": [
    {
     "name": "stderr",
     "output_type": "stream",
     "text": [
      "Some weights of the model checkpoint at C:\\Users\\zhiling.zhang/.cache\\torch\\bert4vec\\WangZeJun_roformer-sim-small-chinese were not used when initializing RoFormerModel: ['pooler.dense.bias', 'pooler.dense.weight']\n",
      "- This IS expected if you are initializing RoFormerModel from the checkpoint of a model trained on another task or with another architecture (e.g. initializing a BertForSequenceClassification model from a BertForPreTraining model).\n",
      "- This IS NOT expected if you are initializing RoFormerModel from the checkpoint of a model that you expect to be exactly identical (initializing a BertForSequenceClassification model from a BertForSequenceClassification model).\n"
     ]
    },
    {
     "name": "stdout",
     "output_type": "stream",
     "text": [
      "[0.90218985 0.9218414  0.9741074  0.88859826 0.87840664 0.8916058\n",
      " 0.79851764 0.781005   0.8613388  0.68186337]\n"
     ]
    }
   ],
   "source": [
    "model = Bert4Vec(mode='roformer-sim-base') \n",
    "similarity = model.similarity(sent1, sent2, return_matrix=False)\n",
    "print(similarity)"
   ]
  },
  {
   "cell_type": "markdown",
   "metadata": {},
   "source": [
    "使用[finetune过后的模型](https://kexue.fm/archives/8541)比较相似度，模型确实能体现出更符合普通常规认知的相似度打分，比如加了“不”字后相似度明显降低"
   ]
  },
  {
   "cell_type": "code",
   "execution_count": 3,
   "metadata": {},
   "outputs": [
    {
     "name": "stderr",
     "output_type": "stream",
     "text": [
      "You are using a model of type bert to instantiate a model of type roformer. This is not supported for all configurations of models and can yield errors.\n",
      "Some weights of the model checkpoint at C:\\Users\\zhiling.zhang/.cache\\torch\\bert4vec\\blmoistawinde_roformer-sim-ft-base-chinese were not used when initializing RoFormerModel: ['embeddings.position_ids', 'pooler.dense.weight', 'embeddings.position_embeddings.weight', 'pooler.dense.bias']\n",
      "- This IS expected if you are initializing RoFormerModel from the checkpoint of a model trained on another task or with another architecture (e.g. initializing a BertForSequenceClassification model from a BertForPreTraining model).\n",
      "- This IS NOT expected if you are initializing RoFormerModel from the checkpoint of a model that you expect to be exactly identical (initializing a BertForSequenceClassification model from a BertForSequenceClassification model).\n",
      "Some weights of RoFormerModel were not initialized from the model checkpoint at C:\\Users\\zhiling.zhang/.cache\\torch\\bert4vec\\blmoistawinde_roformer-sim-ft-base-chinese and are newly initialized: ['encoder.embed_positions.weight']\n",
      "You should probably TRAIN this model on a down-stream task to be able to use it for predictions and inference.\n"
     ]
    },
    {
     "name": "stdout",
     "output_type": "stream",
     "text": [
      "[0.96080494 0.71603286 0.9829726  0.6466826  0.9385048  0.7281149\n",
      " 0.863762   0.9140622  0.9729547  0.8636934 ]\n"
     ]
    }
   ],
   "source": [
    "model = Bert4Vec(mode='roformer-sim-ft-base') \n",
    "similarity = model.similarity(sent1, sent2, return_matrix=False)\n",
    "print(similarity)"
   ]
  },
  {
   "cell_type": "code",
   "execution_count": null,
   "metadata": {},
   "outputs": [],
   "source": []
  }
 ],
 "metadata": {
  "kernelspec": {
   "display_name": "Python 3.9.12 ('base')",
   "language": "python",
   "name": "python3"
  },
  "language_info": {
   "codemirror_mode": {
    "name": "ipython",
    "version": 3
   },
   "file_extension": ".py",
   "mimetype": "text/x-python",
   "name": "python",
   "nbconvert_exporter": "python",
   "pygments_lexer": "ipython3",
   "version": "3.9.12"
  },
  "orig_nbformat": 4,
  "vscode": {
   "interpreter": {
    "hash": "228fb4fdf50c48aaed230367f3c11053346245306bfaa9a8a7dbf785baa18430"
   }
  }
 },
 "nbformat": 4,
 "nbformat_minor": 2
}
